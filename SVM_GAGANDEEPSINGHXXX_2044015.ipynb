{
 "cells": [
  {
   "cell_type": "markdown",
   "metadata": {},
   "source": [
    "# SVM for classification, without and with kernels\n",
    "\n",
    "In this notebook we are going to explore the use of Support Vector Machines (SVMs) for image classification. We are going to use the famous MNIST dataset, that is a dataset of handwritten digits. We get the data from mldata.org, that is a public repository for machine learning data.\n",
    "\n",
    "The dataset consists of 70,000 images of handwritten digits (i.e., 0, 1, ... 9). Each image is 28 pixels by 28 pixels and we can think of it as a vector of 28x28 = 784 numbers. Each number is an integer between 0 and 255. For each image we have the corresponding label (i.e., 0, 1, ..., 9)."
   ]
  },
  {
   "cell_type": "code",
   "execution_count": 1,
   "metadata": {},
   "outputs": [],
   "source": [
    "#load the required packages\n",
    "\n",
    "%matplotlib inline  \n",
    "\n",
    "import numpy as np\n",
    "import matplotlib.pyplot as plt\n",
    "\n",
    "import sklearn\n",
    "from sklearn.datasets import fetch_openml"
   ]
  },
  {
   "cell_type": "code",
   "execution_count": 2,
   "metadata": {},
   "outputs": [],
   "source": [
    "#fix your ID (\"numero di matricola\") and the seed for random generator\n",
    "ID = 42 # COMPLETE\n",
    "np.random.seed(ID)"
   ]
  },
  {
   "cell_type": "markdown",
   "metadata": {},
   "source": [
    "Now let's load the dataset. 'data' contains the input, 'target' contains the label. We normalize the data by dividing each value by 255 so that each value is in [0,1]"
   ]
  },
  {
   "cell_type": "code",
   "execution_count": 3,
   "metadata": {},
   "outputs": [],
   "source": [
    "#load the MNIST dataset and let's normalize the features so that each value is in [0,1]\n",
    "mnist = fetch_openml('mnist_784', version=1)\n",
    "# rescale the data\n",
    "X, y = mnist.data / 255., mnist.target"
   ]
  },
  {
   "cell_type": "markdown",
   "metadata": {},
   "source": [
    "Now split into training and test. We keep 500 samples in the training set. Make sure that each label is present at least 10 times\n",
    "in training. If it is not, then keep adding permutations to the initial data until this \n",
    "happens.\n",
    "\n",
    "**IMPORTANT**: if you cannot run the SVM with 500 samples or 1000 samples (see below), try with a smaller number of samples (e.g. 200 here and 400 below)."
   ]
  },
  {
   "cell_type": "code",
   "execution_count": 4,
   "metadata": {
    "scrolled": true
   },
   "outputs": [
    {
     "name": "stdout",
     "output_type": "stream",
     "text": [
      "Labels and frequencies in training dataset: \n"
     ]
    },
    {
     "data": {
      "text/plain": [
       "(array(['0', '1', '2', '3', '4', '5', '6', '7', '8', '9'], dtype=object),\n",
       " array([53, 56, 46, 60, 43, 45, 49, 49, 49, 50], dtype=int64))"
      ]
     },
     "execution_count": 4,
     "metadata": {},
     "output_type": "execute_result"
    }
   ],
   "source": [
    "#random permute the data and split into training and test taking the first 500\n",
    "#data samples as training and the rests as test\n",
    "permutation = np.random.permutation(X.shape[0])\n",
    "\n",
    "X = X.iloc[permutation]\n",
    "y = y.iloc[permutation]\n",
    "\n",
    "m_training = 500\n",
    "\n",
    "X_train, X_test = X[:m_training], X[m_training:]\n",
    "y_train, y_test = y[:m_training], y[m_training:]\n",
    "\n",
    "print(\"Labels and frequencies in training dataset: \")\n",
    "np.unique(y_train, return_counts = True)"
   ]
  },
  {
   "cell_type": "markdown",
   "metadata": {},
   "source": [
    "We now provide a function to print an image in a dataset, the corresponding true label, and the index of the image in the dataset."
   ]
  },
  {
   "cell_type": "code",
   "execution_count": 5,
   "metadata": {},
   "outputs": [],
   "source": [
    "#function for plotting a digit and printing the corresponding label\n",
    "def plot_digit(X_matrix, labels, index):\n",
    "    print(\"INPUT:\")\n",
    "    plt.imshow(\n",
    "        np.array(X_matrix.iloc[index]).reshape(28,28),\n",
    "        cmap          = plt.cm.gray_r,\n",
    "        interpolation = \"nearest\"\n",
    "    )\n",
    "    plt.show()\n",
    "    print(\"LABEL: %s\" % labels.iloc[index])\n",
    "    return"
   ]
  },
  {
   "cell_type": "markdown",
   "metadata": {},
   "source": [
    "As an example, let's print the 100-th image in X_train and the 40,000-th image in X_test and their true labels."
   ]
  },
  {
   "cell_type": "code",
   "execution_count": 6,
   "metadata": {},
   "outputs": [
    {
     "name": "stdout",
     "output_type": "stream",
     "text": [
      "INPUT:\n"
     ]
    },
    {
     "data": {
      "image/png": "[encoded data removed]",
      "text/plain": [
       "<Figure size 432x288 with 1 Axes>"
      ]
     },
     "metadata": {
      "needs_background": "light"
     },
     "output_type": "display_data"
    },
    {
     "name": "stdout",
     "output_type": "stream",
     "text": [
      "LABEL: 3\n",
      "INPUT:\n"
     ]
    },
    {
     "data": {
      "image/png": "[encoded data removed]",
      "text/plain": [
       "<Figure size 432x288 with 1 Axes>"
      ]
     },
     "metadata": {
      "needs_background": "light"
     },
     "output_type": "display_data"
    },
    {
     "name": "stdout",
     "output_type": "stream",
     "text": [
      "LABEL: 8\n"
     ]
    }
   ],
   "source": [
    "#let's try the plotting function\n",
    "plot_digit(X_train,y_train,100)\n",
    "plot_digit(X_test,y_test,40000)"
   ]
  },
  {
   "cell_type": "markdown",
   "metadata": {},
   "source": [
    "## TO DO 1\n",
    "Run SVM with cross validation to pick a kernel and values of parameters. Use a 5-fold cross-validation to pick the best kernel and choice of parameters. We provide some potential choice for parameters, but change the grid if needed (e.g., it takes too long). For the SVM for classification use SVC from sklearn.svm; for the grid search we suggest you use GridSearchCV from sklearn.model_selection, but you can implement your own cross-validation for model selection if you prefer.\n",
    "\n",
    "Print the best parameters used as well as the score obtained by the best model"
   ]
  },
  {
   "cell_type": "code",
   "execution_count": 7,
   "metadata": {},
   "outputs": [
    {
     "name": "stdout",
     "output_type": "stream",
     "text": [
      "RESULTS FOR LINEAR KERNEL\n",
      "\n",
      "Best parameters set found:\n",
      "C : 0.1\n",
      "Score with best parameters:\n",
      "Score : 0.8720000000000001\n",
      "\n",
      "All scores on the grid:\n",
      "Mean Test Score : [0.862 0.872 0.87  0.87  0.87 ]\n",
      "\n",
      "RESULTS FOR POLYNOMIAL KERNEL\n",
      "\n",
      "Best parameters set found:\n",
      "C : 0.01\n",
      "Gamma : 1.0\n",
      "Score with best parameters:\n",
      "Score : 0.874\n",
      "\n",
      "All scores on the grid:\n",
      "Mean Test Score : [0.12  0.832 0.874 0.4   0.874 0.874 0.832 0.874 0.874 0.874 0.874 0.874\n",
      " 0.874 0.874 0.874]\n",
      "\n",
      "RESULTS FOR rbf KERNEL\n",
      "\n",
      "Best parameters set found:\n",
      "C : 10\n",
      "Gamma : 0.01\n",
      "Score with best parameters:\n",
      "Score : 0.908\n",
      "\n",
      "All scores on the grid:\n",
      "Mean Test Score : [0.12  0.12  0.12  0.378 0.12  0.12  0.882 0.352 0.12  0.908 0.398 0.124\n",
      " 0.908 0.398 0.124]\n"
     ]
    }
   ],
   "source": [
    "#import SVC\n",
    "from sklearn.svm import SVC\n",
    "#import for Cross-Validation\n",
    "from sklearn.model_selection import GridSearchCV\n",
    "\n",
    "# parameters for linear SVM\n",
    "parameters = {'C': [0.01, 0.1, 1, 10, 100]}\n",
    "\n",
    "#run linear SVM\n",
    "linear_SVM = SVC(kernel='linear')\n",
    "\n",
    "#find best model uusing 5-fold CV \n",
    "#and train it using all the training data\n",
    "\n",
    "# ADD CODE\n",
    "search = GridSearchCV(linear_SVM, param_grid=parameters, n_jobs=-1, cv=5)\n",
    "search.fit(X_train,y_train)\n",
    "print ('RESULTS FOR LINEAR KERNEL\\n')\n",
    "\n",
    "print(\"Best parameters set found:\")\n",
    "print(f\"C : {search.best_params_['C']}\")\n",
    "\n",
    "print(\"Score with best parameters:\")\n",
    "print(f\"Score : {search.best_score_}\")\n",
    "\n",
    "print(\"\\nAll scores on the grid:\")\n",
    "print(f\"Mean Test Score : {search.cv_results_['mean_test_score']}\")\n",
    "\n",
    "# parameters for poly with degree 2 kernel\n",
    "parameters = {'C': [0.01, 0.1, 1, 10, 100],'gamma':[0.01,0.1,1.]}\n",
    "\n",
    "#run SVM with poly of degree 2 kernel\n",
    "poly2_SVM = SVC(kernel='poly',degree=2)\n",
    "\n",
    "# ADD CODE: DO THE SAME AS ABOVE FOR POLYNOMIAL KERNEL WITH DEGREE=2\n",
    "search = GridSearchCV(poly2_SVM, param_grid=parameters, n_jobs=-1, cv=5)\n",
    "search.fit(X_train,y_train)\n",
    "print ('\\nRESULTS FOR POLYNOMIAL KERNEL\\n')\n",
    "\n",
    "print(\"Best parameters set found:\")\n",
    "print(f\"C : {search.best_params_['C']}\")\n",
    "print(f\"Gamma : {search.best_params_['gamma']}\")\n",
    "\n",
    "print(\"Score with best parameters:\")\n",
    "print(f\"Score : {search.best_score_}\")\n",
    "\n",
    "print(\"\\nAll scores on the grid:\")\n",
    "print(f\"Mean Test Score : {search.cv_results_['mean_test_score']}\")\n",
    "\n",
    "# parameters for rbf SVM\n",
    "parameters = {'C': [0.01, 0.1, 1, 10, 100],'gamma':[0.01,0.1,1.]}\n",
    "\n",
    "#run SVM with rbf kernel\n",
    "rbf_SVM = SVC(kernel='rbf')\n",
    "# ADD CODE: DO THE SAME AS ABOVE FOR RBF KERNEL\n",
    "search = GridSearchCV(rbf_SVM, param_grid=parameters, n_jobs=-1, cv=5)\n",
    "search.fit(X_train,y_train)\n",
    "print ('\\nRESULTS FOR rbf KERNEL\\n')\n",
    "\n",
    "print(\"Best parameters set found:\")\n",
    "print(f\"C : {search.best_params_['C']}\")\n",
    "print(f\"Gamma : {search.best_params_['gamma']}\")\n",
    "\n",
    "print(\"Score with best parameters:\")\n",
    "print(f\"Score : {search.best_score_}\")\n",
    "\n",
    "print(\"\\nAll scores on the grid:\")\n",
    "print(f\"Mean Test Score : {search.cv_results_['mean_test_score']}\")"
   ]
  },
  {
   "cell_type": "markdown",
   "metadata": {},
   "source": [
    "- Best Model: RBF kernel based SVM\n",
    "- Best Parameter Values:\n",
    "    - 'C' : 10\n",
    "    - 'Gamma' : 0.01\n",
    "- Best Score: 0.9020000000000001"
   ]
  },
  {
   "cell_type": "markdown",
   "metadata": {},
   "source": [
    "## TO DO 2\n",
    "For the \"best\" SVM kernel and choice of parameters from above, train the model on the entire training set and measure the training error. Also make predictions on the test set and measure the test error. Print the training and the test error."
   ]
  },
  {
   "cell_type": "code",
   "execution_count": 8,
   "metadata": {},
   "outputs": [
    {
     "name": "stdout",
     "output_type": "stream",
     "text": [
      "Best SVM training error: 0.000000\n",
      "Best SVM test error: 0.112878\n"
     ]
    }
   ],
   "source": [
    "#get training and test error for the best SVM model from CV\n",
    "best_SVM = SVC(kernel='rbf', C=10, gamma=0.01, random_state=42)\n",
    "\n",
    "# fit the model on the entire training set\n",
    "best_SVM.fit(X_train,y_train)\n",
    "\n",
    "#get the training and test error\n",
    "training_error = 1. - best_SVM.score(X_train,y_train)\n",
    "test_error = 1. - best_SVM.score(X_test,y_test)\n",
    "\n",
    "print (\"Best SVM training error: %f\" % training_error)\n",
    "print (\"Best SVM test error: %f\" % test_error)"
   ]
  },
  {
   "cell_type": "markdown",
   "metadata": {},
   "source": [
    "## Use logistic regression for comparison\n",
    "\n",
    "## TO DO 3\n",
    "\n",
    "Just for comparison let's also use logistic regression, first with the default values of the parameter for regularization and then with cross-validation to fix the value of the parameter. For cross validation, use 5-fold cross validation and the default values of the regularization parameters for the function linear_model.LogisticRegressionCV(...)"
   ]
  },
  {
   "cell_type": "code",
   "execution_count": 9,
   "metadata": {},
   "outputs": [
    {
     "name": "stderr",
     "output_type": "stream",
     "text": [
      "C:\\Users\\gagan\\anaconda3\\lib\\site-packages\\sklearn\\linear_model\\_logistic.py:763: ConvergenceWarning: lbfgs failed to converge (status=1):\n",
      "STOP: TOTAL NO. of ITERATIONS REACHED LIMIT.\n",
      "\n",
      "Increase the number of iterations (max_iter) or scale the data as shown in:\n",
      "    https://scikit-learn.org/stable/modules/preprocessing.html\n",
      "Please also refer to the documentation for alternative solver options:\n",
      "    https://scikit-learn.org/stable/modules/linear_model.html#logistic-regression\n",
      "  n_iter_i = _check_optimize_result(\n"
     ]
    },
    {
     "name": "stdout",
     "output_type": "stream",
     "text": [
      "Default logistic regression training error: 0.000000\n",
      "Default logistic regression test error: 0.155424\n",
      "Best logistic regression training error: 0.000000\n",
      "Best logistic regression test error: 0.155583\n"
     ]
    }
   ],
   "source": [
    "from sklearn import linear_model\n",
    "\n",
    "lr = linear_model.LogisticRegression(random_state=42)\n",
    "# fit the model on the training data\n",
    "# ADD CODE\n",
    "lr.fit(X_train,y_train)\n",
    "\n",
    "#compute training and test error for model above\n",
    "training_error = 1. - lr.score(X_train,y_train)\n",
    "test_error = 1. - lr.score(X_test, y_test)\n",
    "\n",
    "print (\"Default logistic regression training error: %f\" % training_error)\n",
    "print (\"Default logistic regression test error: %f\" % test_error)\n",
    "\n",
    "#logistic regression with 5-fold CV: you can use use linear_model.LogisticRegressionCV\n",
    "# use 5-fold CV to find the best choice of the parameter, than train\n",
    "# the model on the entire training set\n",
    "lr_cv = linear_model.LogisticRegressionCV(Cs=[0.01,0.1,1,10,100], cv=5, n_jobs=-1)\n",
    "lr_cv.fit(X_train,y_train)\n",
    "training_error_cv = 1. - lr_cv.score(X_train,y_train)\n",
    "test_error_cv = 1. - lr_cv.score(X_test,y_test)\n",
    "\n",
    "print (\"Best logistic regression training error: %f\" % training_error_cv)\n",
    "print (\"Best logistic regression test error: %f\" % test_error_cv)"
   ]
  },
  {
   "cell_type": "markdown",
   "metadata": {},
   "source": [
    "## TO DO 4 \n",
    "Compare and comment the results from SVM and logistic regression."
   ]
  },
  {
   "cell_type": "markdown",
   "metadata": {},
   "source": [
    "**Best logistic regression test error is 0.155583 and Best SVM test error is 0.112878, these results suggest that rbf kernel based SVM is better in classification compared to logistic regression, this can be attributed to the fact that rbf kernel can find similarity between data-points in higher than original dimensions of the feature vector (infinte dimensions to be specific)**"
   ]
  },
  {
   "cell_type": "markdown",
   "metadata": {},
   "source": [
    "## TO DO 5\n",
    "Write the code that finds and plots a digit that is missclassified by logistic regression (optimized for the regularization parameter) and correctly classified by the \"best\" SVM."
   ]
  },
  {
   "cell_type": "code",
   "execution_count": 10,
   "metadata": {
    "scrolled": true
   },
   "outputs": [],
   "source": [
    "# ADD CODE\n",
    "import pandas as pd\n",
    "best_lr = lr_cv\n",
    "pred_svm = pd.Series(best_SVM.predict(X_test), index=X_test.index)\n",
    "pred_lr = pd.Series(best_lr.predict(X_test), index=X_test.index)\n",
    "svm_class_images = y_test[(y_test == pred_svm) & (y_test != pred_lr)]"
   ]
  },
  {
   "cell_type": "code",
   "execution_count": 11,
   "metadata": {},
   "outputs": [
    {
     "name": "stdout",
     "output_type": "stream",
     "text": [
      "INPUT:\n"
     ]
    },
    {
     "data": {
      "image/png": "[encoded data removed]",
      "text/plain": [
       "<Figure size 432x288 with 1 Axes>"
      ]
     },
     "metadata": {
      "needs_background": "light"
     },
     "output_type": "display_data"
    },
    {
     "name": "stdout",
     "output_type": "stream",
     "text": [
      "LABEL: 9\n",
      "SVM prediction: 9\n",
      "Logistic Regression prediction: 8\n"
     ]
    }
   ],
   "source": [
    "def plot_digit(X_matrix, labels, index):\n",
    "    print(\"INPUT:\")\n",
    "    plt.imshow(\n",
    "        np.array(X_matrix[X_matrix.index == index]).reshape(28,28),\n",
    "        cmap          = plt.cm.gray_r,\n",
    "        interpolation = \"nearest\"\n",
    "    )\n",
    "    plt.show()\n",
    "    label = labels[labels.index==index][index]\n",
    "    print(\"LABEL: %s\" % label)\n",
    "    return\n",
    "\n",
    "ind = np.random.choice(svm_class_images.index)\n",
    "plot_digit(X_test,y_test,ind)\n",
    "print(f\"SVM prediction: {pred_svm[ind]}\")\n",
    "print(f\"Logistic Regression prediction: {pred_lr[ind]}\")"
   ]
  },
  {
   "cell_type": "markdown",
   "metadata": {},
   "source": [
    "## More data\n",
    "Now let's do the same but using 1000 data points for training. \n",
    "\n",
    "## TO DO 6\n",
    "Repeat the entire analysis above using 1000 samples. Of course you can copy the code from above."
   ]
  },
  {
   "cell_type": "code",
   "execution_count": 12,
   "metadata": {},
   "outputs": [
    {
     "name": "stdout",
     "output_type": "stream",
     "text": [
      "RESULTS FOR LINEAR KERNEL\n",
      "\n",
      "Best parameters set found:\n",
      "C : 0.01\n",
      "Score with best parameters:\n",
      "Score : 0.874\n",
      "\n",
      "All scores on the grid:\n",
      "Mean Test Score : [0.874 0.87  0.873 0.873 0.873]\n",
      "\n",
      "RESULTS FOR POLYNOMIAL KERNEL\n",
      "\n",
      "Best parameters set found:\n",
      "C : 0.1\n",
      "Gamma : 0.1\n",
      "Score with best parameters:\n",
      "Score : 0.884\n",
      "\n",
      "All scores on the grid:\n",
      "Mean Test Score : [0.119 0.871 0.883 0.614 0.884 0.883 0.871 0.883 0.883 0.884 0.883 0.883\n",
      " 0.883 0.883 0.883]\n",
      "\n",
      "RESULTS FOR rbf KERNEL\n",
      "\n",
      "Best parameters set found:\n",
      "C : 10\n",
      "Gamma : 0.01\n",
      "Score with best parameters:\n",
      "Score : 0.908\n",
      "\n",
      "All scores on the grid:\n",
      "Mean Test Score : [0.119 0.119 0.119 0.658 0.128 0.119 0.901 0.485 0.122 0.908 0.531 0.124\n",
      " 0.908 0.531 0.124]\n"
     ]
    }
   ],
   "source": [
    "m_training_large = 1000\n",
    "X_train, X_test = X[:m_training_large],X[m_training_large:]\n",
    "y_train,y_test = y[:m_training_large],y[m_training_large:]\n",
    "\n",
    "# parameters for linear SVM\n",
    "parameters = {'C': [0.01, 0.1, 1, 10, 100]}\n",
    "\n",
    "#run linear SVM\n",
    "linear_SVM = SVC(kernel='linear')\n",
    "\n",
    "#find best model uusing 5-fold CV \n",
    "#and train it using all the training data\n",
    "\n",
    "# ADD CODE\n",
    "search = GridSearchCV(linear_SVM, param_grid=parameters, n_jobs=-1, cv=5)\n",
    "search.fit(X_train,y_train)\n",
    "print ('RESULTS FOR LINEAR KERNEL\\n')\n",
    "\n",
    "print(\"Best parameters set found:\")\n",
    "print(f\"C : {search.best_params_['C']}\")\n",
    "\n",
    "print(\"Score with best parameters:\")\n",
    "print(f\"Score : {search.best_score_}\")\n",
    "\n",
    "print(\"\\nAll scores on the grid:\")\n",
    "print(f\"Mean Test Score : {search.cv_results_['mean_test_score']}\")\n",
    "\n",
    "# parameters for poly with degree 2 kernel\n",
    "parameters = {'C': [0.01, 0.1, 1, 10, 100],'gamma':[0.01,0.1,1.]}\n",
    "\n",
    "#run SVM with poly of degree 2 kernel\n",
    "poly2_SVM = SVC(kernel='poly',degree=2)\n",
    "\n",
    "# ADD CODE: DO THE SAME AS ABOVE FOR POLYNOMIAL KERNEL WITH DEGREE=2\n",
    "search = GridSearchCV(poly2_SVM, param_grid=parameters, n_jobs=-1, cv=5)\n",
    "search.fit(X_train,y_train)\n",
    "print ('\\nRESULTS FOR POLYNOMIAL KERNEL\\n')\n",
    "\n",
    "print(\"Best parameters set found:\")\n",
    "print(f\"C : {search.best_params_['C']}\")\n",
    "print(f\"Gamma : {search.best_params_['gamma']}\")\n",
    "\n",
    "print(\"Score with best parameters:\")\n",
    "print(f\"Score : {search.best_score_}\")\n",
    "\n",
    "print(\"\\nAll scores on the grid:\")\n",
    "print(f\"Mean Test Score : {search.cv_results_['mean_test_score']}\")\n",
    "\n",
    "# parameters for rbf SVM\n",
    "parameters = {'C': [0.01, 0.1, 1, 10, 100],'gamma':[0.01,0.1,1.]}\n",
    "\n",
    "#run SVM with rbf kernel\n",
    "rbf_SVM = SVC(kernel='rbf')\n",
    "# ADD CODE: DO THE SAME AS ABOVE FOR RBF KERNEL\n",
    "search = GridSearchCV(rbf_SVM, param_grid=parameters, n_jobs=-1, cv=5)\n",
    "search.fit(X_train,y_train)\n",
    "print ('\\nRESULTS FOR rbf KERNEL\\n')\n",
    "\n",
    "print(\"Best parameters set found:\")\n",
    "print(f\"C : {search.best_params_['C']}\")\n",
    "print(f\"Gamma : {search.best_params_['gamma']}\")\n",
    "\n",
    "print(\"Score with best parameters:\")\n",
    "print(f\"Score : {search.best_score_}\")\n",
    "\n",
    "print(\"\\nAll scores on the grid:\")\n",
    "print(f\"Mean Test Score : {search.cv_results_['mean_test_score']}\")"
   ]
  },
  {
   "cell_type": "code",
   "execution_count": 13,
   "metadata": {},
   "outputs": [
    {
     "name": "stdout",
     "output_type": "stream",
     "text": [
      "Best SVM training error: 0.000000\n",
      "Best SVM test error: 0.082116\n"
     ]
    }
   ],
   "source": [
    "#get training and test error for the best SVM model from CV\n",
    "best_SVM = SVC(kernel='rbf', C=10, gamma=0.01, random_state=42)\n",
    "\n",
    "# fit the model on the entire training set\n",
    "best_SVM.fit(X_train,y_train)\n",
    "\n",
    "#get the training and test error\n",
    "training_error = 1. - best_SVM.score(X_train,y_train)\n",
    "test_error = 1. - best_SVM.score(X_test,y_test)\n",
    "\n",
    "print (\"Best SVM training error: %f\" % training_error)\n",
    "print (\"Best SVM test error: %f\" % test_error)"
   ]
  },
  {
   "cell_type": "code",
   "execution_count": 15,
   "metadata": {},
   "outputs": [
    {
     "name": "stderr",
     "output_type": "stream",
     "text": [
      "C:\\Users\\gagan\\anaconda3\\lib\\site-packages\\sklearn\\linear_model\\_logistic.py:763: ConvergenceWarning: lbfgs failed to converge (status=1):\n",
      "STOP: TOTAL NO. of ITERATIONS REACHED LIMIT.\n",
      "\n",
      "Increase the number of iterations (max_iter) or scale the data as shown in:\n",
      "    https://scikit-learn.org/stable/modules/preprocessing.html\n",
      "Please also refer to the documentation for alternative solver options:\n",
      "    https://scikit-learn.org/stable/modules/linear_model.html#logistic-regression\n",
      "  n_iter_i = _check_optimize_result(\n"
     ]
    },
    {
     "name": "stdout",
     "output_type": "stream",
     "text": [
      "Default logistic regression training error: 0.000000\n",
      "Default logistic regression test error: 0.135145\n",
      "Best logistic regression training error: 0.028000\n",
      "Best logistic regression test error: 0.132014\n"
     ]
    }
   ],
   "source": [
    "from sklearn import linear_model\n",
    "\n",
    "lr = linear_model.LogisticRegression(random_state=42)\n",
    "# fit the model on the training data\n",
    "# ADD CODE\n",
    "lr.fit(X_train,y_train)\n",
    "\n",
    "#compute training and test error for model above\n",
    "training_error = 1. - lr.score(X_train,y_train)\n",
    "test_error = 1. - lr.score(X_test, y_test)\n",
    "\n",
    "print (\"Default logistic regression training error: %f\" % training_error)\n",
    "print (\"Default logistic regression test error: %f\" % test_error)\n",
    "\n",
    "#logistic regression with 5-fold CV: you can use use linear_model.LogisticRegressionCV\n",
    "# use 5-fold CV to find the best choice of the parameter, than train\n",
    "# the model on the entire training set\n",
    "lr_cv = linear_model.LogisticRegressionCV(Cs=[0.01,0.1,1,10,100], cv=5, n_jobs=-1)\n",
    "lr_cv.fit(X_train,y_train)\n",
    "training_error_cv = 1. - lr_cv.score(X_train,y_train)\n",
    "test_error_cv = 1. - lr_cv.score(X_test,y_test)\n",
    "\n",
    "print (\"Best logistic regression training error: %f\" % training_error_cv)\n",
    "print (\"Best logistic regression test error: %f\" % test_error_cv)"
   ]
  },
  {
   "cell_type": "markdown",
   "metadata": {},
   "source": [
    "## TO DO 7\n",
    "Compare and comment on the differences with the results above."
   ]
  },
  {
   "cell_type": "markdown",
   "metadata": {},
   "source": [
    "**The test error values for both logistic regression and rbf svm has decreased as expected when training on a large dataset but the performance of rbf-kernel SVM is still better than logistic regression:-**\n",
    "\n",
    "**Best logistic regression test error: 0.132043**\n",
    "\n",
    "**Best SVM test error: 0.082116**"
   ]
  },
  {
   "cell_type": "code",
   "execution_count": null,
   "metadata": {},
   "outputs": [],
   "source": []
  }
 ],
 "metadata": {
  "kernelspec": {
   "display_name": "Python 3",
   "language": "python",
   "name": "python3"
  },
  "language_info": {
   "codemirror_mode": {
    "name": "ipython",
    "version": 3
   },
   "file_extension": ".py",
   "mimetype": "text/x-python",
   "name": "python",
   "nbconvert_exporter": "python",
   "pygments_lexer": "ipython3",
   "version": "3.8.8"
  }
 },
 "nbformat": 4,
 "nbformat_minor": 4
}
